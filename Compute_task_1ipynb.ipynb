{
  "nbformat": 4,
  "nbformat_minor": 0,
  "metadata": {
    "colab": {
      "provenance": [],
      "authorship_tag": "ABX9TyN7AdeSS5bDzdkgrm5Ez+An",
      "include_colab_link": true
    },
    "kernelspec": {
      "name": "python3",
      "display_name": "Python 3"
    },
    "language_info": {
      "name": "python"
    }
  },
  "cells": [
    {
      "cell_type": "markdown",
      "metadata": {
        "id": "view-in-github",
        "colab_type": "text"
      },
      "source": [
        "<a href=\"https://colab.research.google.com/github/shoyohinata-05/Compute_task/blob/main/Compute_task_1ipynb.ipynb\" target=\"_parent\"><img src=\"https://colab.research.google.com/assets/colab-badge.svg\" alt=\"Open In Colab\"/></a>"
      ]
    },
    {
      "cell_type": "markdown",
      "source": [
        "Q2"
      ],
      "metadata": {
        "id": "luOfV0XJz5Nk"
      }
    },
    {
      "cell_type": "code",
      "execution_count": null,
      "metadata": {
        "colab": {
          "base_uri": "https://localhost:8080/"
        },
        "id": "-yOCa5usvg6c",
        "outputId": "a8156a44-0924-4bac-e34c-fcafbe646ac2"
      },
      "outputs": [
        {
          "output_type": "stream",
          "name": "stdout",
          "text": [
            "12\n",
            "insert 0 5\n",
            "insert 0 6\n",
            "print\n",
            "[6, 5]\n",
            "remove 6\n",
            "append 1\n",
            "append 3\n",
            "sort\n",
            "print\n",
            "[1, 3, 5]\n",
            "pop\n",
            "print\n",
            "[1, 3]\n",
            "reverse\n",
            "print\n",
            "[3, 1]\n"
          ]
        }
      ],
      "source": [
        "if __name__ == '__main__':\n",
        "    N = int(input())\n",
        "mylist = []\n",
        "for i in range(0,N):\n",
        "    text = input().split()# multiple input using split\n",
        "    if text[0] == \"insert\":\n",
        "        mylist.insert(int(text[1]),int(text[2]))\n",
        "    elif text[0] == \"print\":\n",
        "        print(mylist)\n",
        "    elif text[0] == \"remove\":\n",
        "        mylist.remove(int(text[1]))\n",
        "    elif text[0] == \"append\":\n",
        "        mylist.append(int(text[1]))\n",
        "    elif text[0] == \"sort\":\n",
        "        mylist.sort()\n",
        "    elif text[0] == \"pop\":\n",
        "        mylist.pop()\n",
        "    else:\n",
        "        mylist.reverse()"
      ]
    },
    {
      "cell_type": "markdown",
      "source": [
        "Q3"
      ],
      "metadata": {
        "id": "eEynngF2z8wD"
      }
    },
    {
      "cell_type": "code",
      "source": [
        "if __name__ == '__main__':\n",
        "    n = int(input())\n",
        "    student_marks = {}\n",
        "    for _ in range(n):\n",
        "        name, *line = input().split()\n",
        "        scores = list(map(float, line))#map() function executes a specified function for each item in an iterable.\n",
        "        student_marks[name] = scores\n",
        "    query_name = input()\n",
        "    marks=0\n",
        "    for i in student_marks[query_name]:\n",
        "        marks=marks+i\n",
        "    avg=marks/3\n",
        "    print(\"%.2f\"%avg)"
      ],
      "metadata": {
        "colab": {
          "base_uri": "https://localhost:8080/"
        },
        "id": "ps-7CtfSz8QQ",
        "outputId": "538d0ccb-e0a7-40e3-b590-043b9587b8c5"
      },
      "execution_count": null,
      "outputs": [
        {
          "output_type": "stream",
          "name": "stdout",
          "text": [
            "3\n",
            "a 12 23 34\n",
            "b 45 56 67\n",
            "c 21 74 65\n",
            "c\n",
            "53.33\n"
          ]
        }
      ]
    },
    {
      "cell_type": "markdown",
      "source": [
        "Q5"
      ],
      "metadata": {
        "id": "7Vp_EsNj10mt"
      }
    },
    {
      "cell_type": "code",
      "source": [
        "def mutate_string(string, position, character):\n",
        "     return s[:int(i)]+c+s[int(i)+1:]\n",
        "    \n",
        "if __name__ == '__main__':\n",
        "    s = input()\n",
        "    i, c = input().split()\n",
        "    s_new = mutate_string(s, int(i), c)\n",
        "    print(s_new)\n"
      ],
      "metadata": {
        "colab": {
          "base_uri": "https://localhost:8080/"
        },
        "id": "EuQ_jOX31fy5",
        "outputId": "fd31734c-ed7e-4717-e53d-3c1ee46ec136"
      },
      "execution_count": null,
      "outputs": [
        {
          "output_type": "stream",
          "name": "stdout",
          "text": [
            "aditya \n",
            "3 k\n",
            "adikya \n"
          ]
        }
      ]
    },
    {
      "cell_type": "markdown",
      "source": [
        "Q6"
      ],
      "metadata": {
        "id": "_wjQQkNx4EOD"
      }
    },
    {
      "cell_type": "code",
      "source": [
        "list_1=[10,20,30,40,10]\n",
        "list_2=[75,35,65,75,30]\n",
        "def abc(test_list):\n",
        "  print(\"The original list is : \" + str(test_list))\n",
        "  res = test_list[::len(test_list)-1]\n",
        "  print(\"The first and last element of list are : \" + str(res))\n",
        "  if test_list[0] == test_list[-1]:\n",
        "    print('Result is True')\n",
        "  else:\n",
        "    print('Result is False')\n",
        "abc(list_1)\n",
        "abc(list_2)\n"
      ],
      "metadata": {
        "colab": {
          "base_uri": "https://localhost:8080/"
        },
        "id": "1yiQtuih17rm",
        "outputId": "4a527171-f4b5-4f7d-afdf-cb2576c3d435"
      },
      "execution_count": null,
      "outputs": [
        {
          "output_type": "stream",
          "name": "stdout",
          "text": [
            "The original list is : [10, 20, 30, 40, 10]\n",
            "The first and last element of list are : [10, 10]\n",
            "Result is True\n",
            "The original list is : [75, 35, 65, 75, 30]\n",
            "The first and last element of list are : [75, 30]\n",
            "Result is False\n"
          ]
        }
      ]
    },
    {
      "cell_type": "code",
      "source": [
        "rows = int(input('Enter the number of rows'))\n",
        "# outer loop\n",
        "for i in range(rows+1):\n",
        "    # nested loop\n",
        "    for j in range(i):\n",
        "        # display number\n",
        "        print(i, end=' ')\n",
        "    # new line after each row\n",
        "    print('')\n"
      ],
      "metadata": {
        "colab": {
          "base_uri": "https://localhost:8080/"
        },
        "id": "qmHRR9lE4RiF",
        "outputId": "8d45069a-5cce-47da-eb5e-e68ff89b6039"
      },
      "execution_count": null,
      "outputs": [
        {
          "output_type": "stream",
          "name": "stdout",
          "text": [
            "Enter the number of rows5\n",
            "\n",
            "1 \n",
            "2 2 \n",
            "3 3 3 \n",
            "4 4 4 4 \n",
            "5 5 5 5 5 \n"
          ]
        }
      ]
    },
    {
      "cell_type": "markdown",
      "source": [
        "Q4\n"
      ],
      "metadata": {
        "id": "z5M2xCua5TYC"
      }
    },
    {
      "cell_type": "code",
      "source": [
        "# importing the module\n",
        "import re\n",
        "\n",
        "def fun(s):    \n",
        "    \n",
        "    # using re.match function\n",
        "    a = re.match(r'[a-zA-Z0-9_-]+@[a-zA-Z0-9]+\\.[a-zA-Z]{1,3}$',s)\n",
        "    \n",
        "    #returning the email adress\n",
        "    return(a)\n",
        "\n",
        "def filter_mail(emails):\n",
        "    return list(filter(fun, emails))\n",
        "\n",
        "if __name__ == '__main__':\n",
        "    n = int(input())\n",
        "    emails = []\n",
        "    for _ in range(n):\n",
        "        emails.append(input())\n",
        "\n",
        "filtered_emails = filter_mail(emails)\n",
        "filtered_emails.sort()\n",
        "print(filtered_emails)"
      ],
      "metadata": {
        "colab": {
          "base_uri": "https://localhost:8080/"
        },
        "id": "7sf0OwJ25VwG",
        "outputId": "60996eb2-a7b5-4c01-f07f-cc69b90897ec"
      },
      "execution_count": null,
      "outputs": [
        {
          "output_type": "stream",
          "name": "stdout",
          "text": [
            "3\n",
            "lara@hackerrank.com\n",
            "brian-23@hackerrank.com\n",
            "britts_54@hackerrank.com\n",
            "['brian-23@hackerrank.com', 'britts_54@hackerrank.com', 'lara@hackerrank.com']\n"
          ]
        }
      ]
    },
    {
      "cell_type": "markdown",
      "source": [
        "Q1"
      ],
      "metadata": {
        "id": "Oly_Hoku66KU"
      }
    },
    {
      "cell_type": "code",
      "source": [
        "N, X = list(map(int,input().split()))\n",
        "\n",
        "marks = []\n",
        "for _ in range(X):\n",
        "    sub_marks = list(map(float,input().split()))\n",
        "    marks.append(sub_marks)\n",
        "    \n",
        "for mark in zip(*marks):\n",
        "    avg = sum(mark)/len(mark)\n",
        "    print(avg)"
      ],
      "metadata": {
        "colab": {
          "base_uri": "https://localhost:8080/"
        },
        "id": "1oNi0K0s65lD",
        "outputId": "03cfd683-a8e5-4632-e4b6-6e833e7c6ea5"
      },
      "execution_count": null,
      "outputs": [
        {
          "output_type": "stream",
          "name": "stdout",
          "text": [
            "5 3\n",
            "89 90 78 93 80\n",
            "90 91 85 88 86  \n",
            "91 92 83 89 90.5\n",
            "90.0\n",
            "91.0\n",
            "82.0\n",
            "90.0\n",
            "85.5\n"
          ]
        }
      ]
    }
  ]
}
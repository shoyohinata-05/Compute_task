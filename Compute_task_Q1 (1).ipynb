{
  "metadata": {
    "kernelspec": {
      "name": "python",
      "display_name": "Python (Pyodide)",
      "language": "python"
    },
    "language_info": {
      "codemirror_mode": {
        "name": "python",
        "version": 3
      },
      "file_extension": ".py",
      "mimetype": "text/x-python",
      "name": "python",
      "nbconvert_exporter": "python",
      "pygments_lexer": "ipython3",
      "version": "3.8"
    },
    "vscode": {
      "interpreter": {
        "hash": "d0c73c6c8939831cd1c99d96f25fee0b00158582118b950e903eabd3607cb2e8"
      }
    }
  },
  "nbformat_minor": 4,
  "nbformat": 4,
  "cells": [
    {
      "cell_type": "code",
      "source": "import pandas as pd\nimport matplotlib.pyplot as plt\nimport numpy as np",
      "metadata": {
        "trusted": true
      },
      "execution_count": null,
      "outputs": []
    },
    {
      "cell_type": "markdown",
      "source": "Loading the data ",
      "metadata": {}
    },
    {
      "cell_type": "code",
      "source": "df_train = pd.read_csv(\"train.csv\")\ndf_train",
      "metadata": {
        "trusted": true
      },
      "execution_count": null,
      "outputs": []
    },
    {
      "cell_type": "code",
      "source": "df_train.head()",
      "metadata": {
        "trusted": true
      },
      "execution_count": null,
      "outputs": []
    },
    {
      "cell_type": "code",
      "source": "df_train.describe()",
      "metadata": {
        "trusted": true
      },
      "execution_count": null,
      "outputs": []
    },
    {
      "cell_type": "code",
      "source": "df_train.info()",
      "metadata": {
        "trusted": true
      },
      "execution_count": null,
      "outputs": []
    },
    {
      "cell_type": "markdown",
      "source": "to count the number of  total null values in the data",
      "metadata": {}
    },
    {
      "cell_type": "code",
      "source": "df_train.isnull().sum()",
      "metadata": {
        "trusted": true
      },
      "execution_count": null,
      "outputs": []
    },
    {
      "cell_type": "code",
      "source": "per_age = (df_train['Age'].isnull().sum())/(df_train.shape[0])*100\nper_cabin = (df_train['Cabin'].isnull().sum())/(df_train.shape[0])*100\nprint(\"Percentage missing in Age : \",per_age)\nprint(\"Percentage Missing in Cabin : \",per_cabin)\n",
      "metadata": {
        "trusted": true
      },
      "execution_count": null,
      "outputs": []
    },
    {
      "cell_type": "markdown",
      "source": "As the  cabin column had more than 50% of missing values we  will drop it",
      "metadata": {}
    },
    {
      "cell_type": "code",
      "source": "df_train = df_train.copy()\n\ndf_train.drop('Cabin',axis=1,inplace=True)\n\ndf_train",
      "metadata": {
        "trusted": true
      },
      "execution_count": null,
      "outputs": []
    },
    {
      "cell_type": "markdown",
      "source": "As the  age column has less than 50% of null values we  will drop the rows which has null values",
      "metadata": {}
    },
    {
      "cell_type": "code",
      "source": "new_data = df_train.dropna(axis = 0, how ='any')\nnew_data",
      "metadata": {
        "trusted": true
      },
      "execution_count": null,
      "outputs": []
    },
    {
      "cell_type": "code",
      "source": "df_train['Embarked'].value_counts()",
      "metadata": {
        "trusted": true
      },
      "execution_count": null,
      "outputs": []
    },
    {
      "cell_type": "markdown",
      "source": "will use fillna()  to  replace NaN values with S ",
      "metadata": {}
    },
    {
      "cell_type": "code",
      "source": "df_train['Embarked'].fillna('S',inplace=True)",
      "metadata": {
        "trusted": true
      },
      "execution_count": null,
      "outputs": []
    },
    {
      "cell_type": "code",
      "source": "df_train.drop('PassengerId',axis=1,inplace=True)\ndf_train.drop('Name',axis=1,inplace=True)\ndf_train.drop('Ticket',axis=1,inplace=True)\ndf_train\n",
      "metadata": {
        "trusted": true
      },
      "execution_count": null,
      "outputs": []
    },
    {
      "cell_type": "code",
      "source": "\npip install -U scikit-learn",
      "metadata": {
        "trusted": true
      },
      "execution_count": null,
      "outputs": []
    },
    {
      "cell_type": "markdown",
      "source": "Label Encoding refers to converting the labels into a numeric form so as to convert them into the machine-readable form.\nsuch that C=0,Q=1,S=2\n",
      "metadata": {}
    },
    {
      "cell_type": "code",
      "source": "\n\nfrom sklearn import preprocessing\nlabel_encoder = preprocessing.LabelEncoder()\ndf_train['Embarked']= label_encoder.fit_transform(df_train['Embarked'])\ndf_train",
      "metadata": {},
      "execution_count": null,
      "outputs": []
    },
    {
      "cell_type": "markdown",
      "source": "Plotting a countplot to see how many people survived",
      "metadata": {}
    },
    {
      "cell_type": "code",
      "source": "import seaborn as sns\nsns.countplot(x=df_train[\"Survived\"])",
      "metadata": {
        "trusted": true
      },
      "execution_count": null,
      "outputs": []
    },
    {
      "cell_type": "markdown",
      "source": "To see how many people travelled in each  class",
      "metadata": {}
    },
    {
      "cell_type": "code",
      "source": "sns.countplot(x=df_train[\"Pclass\"])",
      "metadata": {
        "trusted": true
      },
      "execution_count": null,
      "outputs": []
    },
    {
      "cell_type": "markdown",
      "source": "To see the sex ratio  of the people present",
      "metadata": {}
    },
    {
      "cell_type": "code",
      "source": "sns.countplot(x=df_train[\"Sex\"])",
      "metadata": {
        "trusted": true
      },
      "execution_count": null,
      "outputs": []
    },
    {
      "cell_type": "markdown",
      "source": "To see the realtion between passenger class and number of people survived",
      "metadata": {}
    },
    {
      "cell_type": "code",
      "source": "sns.barplot(data=df_train, x=\"Pclass\", y=\"Survived\")",
      "metadata": {
        "trusted": true
      },
      "execution_count": null,
      "outputs": []
    },
    {
      "cell_type": "markdown",
      "source": "Pclass affects survive rate\n\nnumber of survive number: 1> 2 > 3",
      "metadata": {}
    },
    {
      "cell_type": "code",
      "source": "",
      "metadata": {},
      "execution_count": null,
      "outputs": []
    },
    {
      "cell_type": "markdown",
      "source": "To see the realtion between sex and number of people survived",
      "metadata": {}
    },
    {
      "cell_type": "code",
      "source": "sns.barplot(data=df_train, x=\"Sex\", y=\"Survived\")",
      "metadata": {
        "trusted": true
      },
      "execution_count": null,
      "outputs": []
    },
    {
      "cell_type": "markdown",
      "source": "female survived much more than male",
      "metadata": {}
    }
  ]
}